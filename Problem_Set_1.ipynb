{
  "nbformat": 4,
  "nbformat_minor": 0,
  "metadata": {
    "colab": {
      "provenance": []
    },
    "kernelspec": {
      "name": "python3",
      "display_name": "Python 3"
    },
    "language_info": {
      "name": "python"
    }
  },
  "cells": [
    {
      "cell_type": "markdown",
      "source": [
        "# DS 211 Numerical Optimization (AUG 2022)\n",
        "## **Problem Set 1**\n",
        "**Dealine to submit- 23-Sept-2022**\n"
      ],
      "metadata": {
        "id": "6nraklxcC2f-"
      }
    },
    {
      "cell_type": "markdown",
      "source": [
        "\n",
        "## **Question : 1**\n",
        "\n",
        "\n",
        " **Linear Least Squares** **[5 points]**\n",
        "\n",
        "\n",
        "The simplest model to predict the spread of infectious diseases is the SIR model. This model is a set of ordinary differential equations that describe the evolution of the number of susceptible (S(t)), infected (I(t)) and recovered/removed (R(t)) populations in a closed system. The equations are\n",
        "\n",
        "$\\frac{dS}{dt} = \\frac {−βIS} {N} $, (1)\n",
        "\n",
        "$\\frac{dI}{dt} =\\frac {βIS} {N} −γI$, (2)\n",
        "\n",
        "$\\frac{dR}{dt} = γI$, (3)\n",
        "\n",
        "where $N = S(t)+I(t)+R(t)$. The basic reproduction number $R_0 = β/γ$ is defined to quantify the new infections that one infected person causes and is considered as a magic number to identify if an infectious disease is under control. For example, if $R_0 > 1$, the disease has an exponential growth whereas if $R_0 < 1$, the disease is under control and the infectious population will eventually go to zero. At peak $R_0$ will cross 1.\n",
        "As with simple models, there exist analytical solutions to the SIR model. One form of the solution is given as\n",
        "\n",
        "$S(t) = S(0) exp(−χ(t))$ , (4)\n",
        "\n",
        "$I(t) = N − S(t) − R(t)$ , (5)\n",
        "\n",
        "$R(t) = R(0) + ρχ(t)$ , (6)\n",
        "\n",
        "$χ(t) = \\frac {β} {N} \\int_{0}^{t}I(t^*) dt^*$. (7)\n",
        "\n",
        "\n",
        "For this assignment, we will consider a time unit of days, total population of India as 130 crores and the time horizon of interest as March 23, 2020 to Oct 15, 2020. Removed is a sum of recovered and deceased, i.e., the population that will not get infected again. Data in CSV form for state-wise-daily is available at\n",
        "https://data.covid19india.org/csv/latest/state_wise_daily.csv\n",
        "\n",
        "1. Download the state wise daily data of infected, recovered and deceased from the covid19india website. The data gives daily new infections, recovery and deceased. Use Pandas and create time-series of all India $I(t), S(t)$ and $R(t)$. Plot these time- series. Hint: Apply yourself and see what $I(t)$ means and what the data provides.\n",
        "2. Formulate the problem of estimating $γ$ and $β$ as a linear least squares problem.\n",
        "3. Form the Jacobian matrix and calculate its rank and condition number.\n",
        "4. Form the coefficient matrix and calculate its condition number. Find the relation between this condition number and condition number of the Jacobian.\n",
        "5. Code the cholesky factorization approach to solve the linear least squares problem.\n",
        "6. Apply your code and estimate $β, γ$ and $R_0$.\n",
        "7. Use scipy.optimize and estimate $β, γ$ and $R_0$.\n",
        "8. State your observations in the above two items and give reasons.\n",
        "9. Estimate $R_0(t)$ as a function of time by utilizing data until t to estimate the different parameters. Plot $R_0(t)$.\n",
        "10. Based on the above analyse the state of the pandemic in India. Has the peak passed as on Oct 2020?"
      ],
      "metadata": {
        "id": "MgaWdwJwAuS1"
      }
    },
    {
      "cell_type": "markdown",
      "metadata": {
        "id": "cv-xwYNlYU1y"
      },
      "source": [
        "\n",
        "## **Question : 2**\n",
        "\n",
        "\n",
        "**Steepest Descent and Newton's Line Search Methods**\n",
        "\n",
        "\n",
        "1. Find the minima $x^*$ for the given functions $f_1(x)$ and  $f_2(x)$ using your own implementation of Steepest Descent. Compute the step lenght by implementing the backtracking algorithm (Algorithm 3.1 Nocedal and Wright) with $\\rho = 0.9$ and $c = 10^{-4}$. **[1.5 Points]**\n",
        "\n",
        "2. Find the minima $x^*$ for the given functions $f_1(x)$ and  $f_2(x)$ using your own implementation of Newton's Method. **[1 Point]**\n",
        "\n",
        "Notes:\n",
        "1. Run both algorithms for two initial guesses. i. $x_0=(2,0)$ and ii. $x_0=(2,2)$\n",
        "2. Stop iterations when $||x_{k+1} - x_{k}||_2^2 < 10^{-5}$\n",
        "3. For each case report the solution and the number of iterations to converge. Also comment on the reported number of iterations.\n",
        "4. Show the function contour plot and the iterates {$x_k$} including the solution.\n",
        "\n",
        "Consider the following quadratic functions:\n",
        "1. $f_1(x) = \\frac{1}{2} x^T A_1 x $\n",
        "  \n",
        "  where\n",
        "$A_1 =\n",
        "  \\begin{pmatrix}\n",
        "  1 & 0 \\\\\n",
        "  0 & 1 \\\\\n",
        "  \\end{pmatrix}$\n",
        "\n",
        "2. $f_2(x) = \\frac{1}{2} x^T A_2 x $\n",
        "  \n",
        "  where\n",
        "$A_2 =\n",
        "  \\begin{pmatrix}\n",
        "  10 & 8 \\\\\n",
        "  8 & 10 \\\\\n",
        "  \\end{pmatrix}$\n",
        "\n"
      ]
    },
    {
      "cell_type": "markdown",
      "metadata": {
        "id": "xLjXDIayjo47"
      },
      "source": [
        "# **Question : 3**\n",
        "\n",
        "**Rosenbrock function**\n",
        "\n",
        "Use the steepest descent and Newtons algorithms using the backtracking line search to minimize the classic Rosenbrock function. Set the initial step length to 1. At each iteration store the step lengths used by each method and make plots. Show the step lengths taken and iterates as plots. Do these for a start point of search $x_0 = [1.2, 1.2]^T$ and then for the starting point $x_0 = [-1.2, 1]^T$ **[1 Point]**\n",
        "\n",
        "1. Plot the convergence of the iterates and the objective function value. Evaluate the rate of convergence. **[0.5 Points]**\n",
        "\n",
        "2. Call built-in functions for steepest descent and newton’s method, and show the results for the above. Compare and evaluate your program. Compare the run-time of your program and built-in function. Is there a difference? Why or why not? **Hint**: Jacobians! **[1 Point]**"
      ]
    }
  ]
}