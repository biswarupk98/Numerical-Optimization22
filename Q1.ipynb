{
  "nbformat": 4,
  "nbformat_minor": 0,
  "metadata": {
    "colab": {
      "provenance": [],
      "collapsed_sections": []
    },
    "kernelspec": {
      "name": "python3",
      "display_name": "Python 3"
    },
    "language_info": {
      "name": "python"
    }
  },
  "cells": [
    {
      "cell_type": "code",
      "execution_count": 188,
      "metadata": {
        "colab": {
          "base_uri": "https://localhost:8080/",
          "height": 535
        },
        "id": "1A1KmFXgcPRf",
        "outputId": "24d88f27-b84b-439f-d1f3-3dc84b0b84a1"
      },
      "outputs": [
        {
          "output_type": "display_data",
          "data": {
            "text/plain": [
              "<Figure size 432x288 with 1 Axes>"
            ],
            "image/png": "[encoded data removed]"
          },
          "metadata": {
            "needs_background": "light"
          }
        },
        {
          "output_type": "display_data",
          "data": {
            "text/plain": [
              "<Figure size 432x288 with 1 Axes>"
            ],
            "image/png": "[encoded data removed]"
          },
          "metadata": {
            "needs_background": "light"
          }
        }
      ],
      "source": [
        "import pandas as pd\n",
        "import numpy as np\n",
        "import matplotlib.pyplot as plt\n",
        "import scipy\n",
        "\n",
        "N=130*10**7 #population \n",
        "Confirmed=np.empty((207))\n",
        "Recovered=np.empty((207))\n",
        "Deceased=np.empty((207))\n",
        "\n",
        "dt=pd.date_range(start='23/03/2020',end='15/10/2020',freq='D')\n",
        "S=np.empty((207))\n",
        "I=np.empty((207))\n",
        "R=np.empty((207))\n",
        "data = pd.read_csv('https://data.covid19india.org/csv/latest/state_wise_daily.csv')\n",
        "date = data.loc[:,'Date']\n",
        "TT = data.loc[:,'TT']\n",
        "j=0\n",
        "i=27\n",
        "\n",
        "#Separating Confirmed, Recovered and Deceased cases\n",
        "while i<=645:\n",
        "  if j==0:\n",
        "    Confirmed[j] = TT[i]\n",
        "    Recovered[j] = TT[i+1]\n",
        "    Deceased[j] = TT[i+2]\n",
        "  else:\n",
        "    Confirmed[j] = TT[i]\n",
        "    Recovered[j] = TT[i+1]\n",
        "    Deceased[j] = TT[i+2]\n",
        "  i=i+3\n",
        "  j=j+1\n",
        "\n",
        "#Forming the R(t), I(t) and S(t) data\n",
        "R = np.cumsum(Recovered)+np.cumsum(Deceased)\n",
        "I = np.cumsum(Confirmed)-R\n",
        "S=N-I-R\n",
        "\n",
        "#plotting S, I, R vs t\n",
        "plt.plot(dt,S,label='Susceptible')\n",
        "plt.legend()\n",
        "plt.show()\n",
        "plt.plot(dt,R,label='Removed')\n",
        "plt.plot(dt,I,label='Infected')\n",
        "plt.legend()\n",
        "plt.show()\n",
        "\n",
        "dR=np.gradient(R) #dR/dt\n",
        "dS=np.gradient(S) #dS/dt\n",
        "dI=np.gradient(I) #dI/dt\n",
        "\n",
        "#for Ax=b\n",
        "b=np.row_stack((np.transpose([dS]),np.transpose([dI]),np.transpose([dR])))\n",
        "x=np.transpose([[1.0,1.0]])\n",
        "\n",
        "r1=np.transpose([(-1)*np.divide(I*S,N),np.zeros((207))])\n",
        "r2=np.transpose([np.divide(I*S,N),(-1)*I])\n",
        "r3=np.transpose([np.zeros((207)),I])\n",
        "A=np.row_stack((r1,r2,r3))\n"
      ]
    },
    {
      "cell_type": "markdown",
      "source": [
        "Q1 (2): [dS/dt dI/dt dR/dt]  = [[-IS/N, 0],[IS/N, -I],[0, I]] [β,γ]  "
      ],
      "metadata": {
        "id": "JPUkop7WBLw5"
      }
    },
    {
      "cell_type": "code",
      "source": [
        "#Jacobian_matrix\n",
        "#For the type of eqn, f(x)=Ax-b: Jacobian, J = df/dx = A\n",
        "J=A\n",
        "KJ=np.linalg.cond(J) #Condition number of Jacobian\n",
        "rank=np.linalg.matrix_rank(J) #rank of Jacobian\n",
        "print(\"Rank of Jacobian:\",rank)\n",
        "print(\"Condition Number of Jacobian:\",KJ)\n",
        "\n",
        "#coefficient matrix = A\n",
        "K=np.linalg.cond(A) #condition number of A\n",
        "print(\"Condition Number of Coeff Matrix:\",K)\n",
        "\n",
        "if KJ==K:\n",
        "  print(\"Rank of Jacobian and Coefficient matrix are same!\")"
      ],
      "metadata": {
        "colab": {
          "base_uri": "https://localhost:8080/",
          "height": 0
        },
        "id": "aDTyYv6yBzYL",
        "outputId": "1482cb89-f840-4d99-b223-74981096c128"
      },
      "execution_count": 189,
      "outputs": [
        {
          "output_type": "stream",
          "name": "stdout",
          "text": [
            "Rank of Jacobian: 2\n",
            "Condition Number of Jacobian: 1.732070716722878\n",
            "Condition Number of Coeff Matrix: 1.732070716722878\n",
            "Rank of Jacobian and Coefficient matrix are same!\n"
          ]
        }
      ]
    },
    {
      "cell_type": "code",
      "source": [
        "#Cholesky_Factorization_code\n",
        "B=tf.matmul(tf.transpose(A),A) #B = ATA\n",
        "n=(np.shape(B)[0])\n",
        "L=np.zeros((2,2))\n",
        "for i in range(0,n):\n",
        "  j=0\n",
        "  while(j<=i):\n",
        "    sum=0.0\n",
        "    k=0\n",
        "    while(k<j):\n",
        "      sum+=L[i,k]*L[j,k]\n",
        "      k+=1\n",
        "    if i==j:\n",
        "      L[i,j]=np.sqrt(B[i,i]-sum)\n",
        "    else:\n",
        "      L[i,j]=(1.0/L[j,j])*(B[i,j]-sum)\n",
        "    j+=1\n",
        "\n",
        "x=np.matmul(np.linalg.inv(np.matmul(L,np.transpose(L))),np.matmul(np.transpose(A),b)) #solving A^t.Ax = A^t.b\n",
        "print(\"beta = \",x[0,0])\n",
        "print(\"gamma = \",x[1,0])\n",
        "print(\"R0 = \",x[0,0]/x[1,0])"
      ],
      "metadata": {
        "colab": {
          "base_uri": "https://localhost:8080/",
          "height": 0
        },
        "id": "dn0RQDfR83Xg",
        "outputId": "d118cf86-6fe1-412e-b019-1ccb5db3ca11"
      },
      "execution_count": 190,
      "outputs": [
        {
          "output_type": "stream",
          "name": "stdout",
          "text": [
            "beta =  0.09167505183592116\n",
            "gamma =  0.08581237141119387\n",
            "R0 =  1.0683197577262447\n"
          ]
        }
      ]
    },
    {
      "cell_type": "code",
      "source": [
        "#using built in functions\n",
        "b=b.reshape((np.shape(b)[0],)) #reshaping b to (621,) as it has to conform to the input parameters of lsq_linear\n",
        "res=scipy.optimize.lsq_linear(A,b)\n",
        "print(\"beta = \",x[0,0])\n",
        "print(\"gamma = \",x[1,0])\n",
        "print(\"R0 = \",x[0,0]/x[1,0])"
      ],
      "metadata": {
        "colab": {
          "base_uri": "https://localhost:8080/",
          "height": 0
        },
        "id": "axFm08RSDUSJ",
        "outputId": "bc7b01f7-702d-4fda-8f9b-8db6332ec007"
      },
      "execution_count": 191,
      "outputs": [
        {
          "output_type": "stream",
          "name": "stdout",
          "text": [
            "beta =  0.09167505183592116\n",
            "gamma =  0.08581237141119387\n",
            "R0 =  1.0683197577262447\n"
          ]
        }
      ]
    },
    {
      "cell_type": "markdown",
      "source": [
        "Both the solutions by Cholesky factorization and Linear Least squares give the same result"
      ],
      "metadata": {
        "id": "7yiI7VEBI0x5"
      }
    },
    {
      "cell_type": "code",
      "source": [
        "#to plot R0(t)\n",
        "\n",
        "n=207 #no of data points\n",
        "R0t=np.empty((n,1))\n",
        "\n",
        "for t in range(0,207):\n",
        "  i=0\n",
        "  j=0\n",
        "  while i<=t:\n",
        "    if j==0:\n",
        "      Confirmed[j] = TT[i]\n",
        "      Recovered[j] = TT[i+1]\n",
        "      Deceased[j] = TT[i+2]\n",
        "    else:\n",
        "      Confirmed[j] = TT[i]\n",
        "      Recovered[j] = TT[i+1]\n",
        "      Deceased[j] = TT[i+2]\n",
        "    i=i+3\n",
        "    j=j+1\n",
        "  \n",
        "  R = np.cumsum(Recovered)+np.cumsum(Deceased)\n",
        "  I = np.cumsum(Confirmed)-R\n",
        "  S=N-I-R\n",
        "\n",
        "  dR=np.gradient(R)\n",
        "  dS=np.gradient(S)\n",
        "  dI=np.gradient(I)\n",
        "  \n",
        "  b=np.row_stack((np.transpose([dS]),np.transpose([dI]),np.transpose([dR])))\n",
        "  x=np.transpose([[1.0,1.0]])\n",
        "  \n",
        "  r1=np.transpose([(-1)*np.divide(I*S,N),np.zeros((207))])\n",
        "  r2=np.transpose([np.divide(I*S,N),(-1)*I])\n",
        "  r3=np.transpose([np.zeros((207)),I])\n",
        "  A=np.row_stack((r1,r2,r3))\n",
        "  \n",
        "  b=b.reshape((np.shape(b)[0],)) #reshaping b to (621,) as it has to conform to the input parameters of lsq_linear\n",
        "  res=scipy.optimize.lsq_linear(A,b)\n",
        "  x=res.x\n",
        "  beta=x[0]\n",
        "  gamma=x[1]\n",
        "  R0t[t]=beta/gamma\n",
        "\n",
        "plt.plot(dt,R0t)\n",
        "plt.xlabel('t')\n",
        "plt.ylabel('R0(t)')\n",
        "plt.show()"
      ],
      "metadata": {
        "colab": {
          "base_uri": "https://localhost:8080/",
          "height": 279
        },
        "id": "SaJozFYFI_6H",
        "outputId": "e7115d0c-3b0b-4890-9601-d2e725913c55"
      },
      "execution_count": 192,
      "outputs": [
        {
          "output_type": "display_data",
          "data": {
            "text/plain": [
              "<Figure size 432x288 with 1 Axes>"
            ],
            "image/png": "[encoded data removed]"
          },
          "metadata": {
            "needs_background": "light"
          }
        }
      ]
    },
    {
      "cell_type": "markdown",
      "source": [
        "Since R0 = 1.07 > 1, the peak has not passed as of Oct 2020"
      ],
      "metadata": {
        "id": "aIMArvH5Nnbj"
      }
    }
  ]
}