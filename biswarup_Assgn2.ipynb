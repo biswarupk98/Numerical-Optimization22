{
  "cells": [
    {
      "cell_type": "markdown",
      "metadata": {
        "id": "dPLTKEIpK75P"
      },
      "source": [
        "# Problem 1(part (a))\n"
      ]
    },
    {
      "cell_type": "code",
      "execution_count": 1,
      "metadata": {
        "id": "mGatM-lSK75d"
      },
      "outputs": [],
      "source": [
        "import numpy as np\n",
        "import pandas as pd\n",
        "import matplotlib.pyplot as plt\n",
        "from sklearn.datasets import make_spd_matrix"
      ]
    },
    {
      "cell_type": "code",
      "execution_count": 2,
      "metadata": {
        "id": "NuXMZ1oQK75l"
      },
      "outputs": [],
      "source": [
        "def construct_H(size):\n",
        "    H = make_spd_matrix(n_dim=size, random_state=1)\n",
        "    return H\n",
        "#print(pd.DataFrame(H))"
      ]
    },
    {
      "cell_type": "code",
      "execution_count": 3,
      "metadata": {
        "id": "CtaHPujfK75o"
      },
      "outputs": [],
      "source": [
        "#Solving the linear system of equations Hx = b\n",
        "def conjugate_gradient(H, b, x_init, tolerance):\n",
        "    \n",
        "    r_curr = np.matmul(H, x_init) - b\n",
        "    p_curr = -r_curr\n",
        "    x_curr = x_init\n",
        "    \n",
        "    if np.linalg.norm(r_curr, 2) < tolerance:\n",
        "        return x_curr\n",
        "    \n",
        "    iterations = 0\n",
        "    while np.linalg.norm(r_curr, 2) > tolerance:\n",
        "        H_p = np.matmul(H, p_curr)\n",
        "        #alpha_curr = - np.dot(r_curr, p_curr) / np.dot(p_curr, H_p)\n",
        "        alpha_curr = np.dot(r_curr, r_curr) / np.dot(p_curr, H_p)\n",
        "        x_curr = x_curr + alpha_curr * p_curr\n",
        "        r_next = r_curr + alpha_curr * H_p\n",
        "        #beta = np.dot(r_curr, H_p) / np.dot(p_curr, H_p)\n",
        "        beta = np.dot(r_next, r_next) / np.dot(r_curr, r_curr)\n",
        "        p_curr = -r_next + beta*p_curr\n",
        "        r_curr = r_next\n",
        "        iterations += 1\n",
        "        \n",
        "    return x_curr, iterations"
      ]
    },
    {
      "cell_type": "code",
      "execution_count": 4,
      "metadata": {
        "id": "R_xvo3yBK75u",
        "outputId": "cd0deff5-ec6e-41cf-f404-039659038707",
        "colab": {
          "base_uri": "https://localhost:8080/"
        }
      },
      "outputs": [
        {
          "output_type": "stream",
          "name": "stdout",
          "text": [
            "The solution:\n",
            " [ 6.00193717  5.00479659  1.92926642 -0.26869897  1.88418717  0.01632841\n",
            "  1.99972254  6.20275149  1.40741947  3.75708939]\n",
            "The number of iterations\n",
            " 11\n",
            "The condition number:\n",
            " 152.9820861811429\n"
          ]
        }
      ],
      "source": [
        "n=10\n",
        "H = construct_H(n)\n",
        "b = np.ones(n)\n",
        "x_init = np.zeros(n)\n",
        "tolerance = 1e-6\n",
        "x_opt, iters = conjugate_gradient(H, b, x_init, tolerance)\n",
        "condition_number = np.linalg.norm(H, 2) * np.linalg.norm(np.linalg.inv(H), 2)\n",
        "print(\"The solution:\\n\",x_opt)\n",
        "print(\"The number of iterations\\n\",iters)\n",
        "print(\"The condition number:\\n\",condition_number)"
      ]
    },
    {
      "cell_type": "markdown",
      "metadata": {
        "id": "oocE426YK750"
      },
      "source": [
        "We know that for a symmetric positive definite matrix of order $n\\times n$ , the convergence should have been achieved in at most n iterations. However, in computer, round off errors occur and higher the condition number of matrix, we get slower the rate of convergence. Hence we observe that number of iterations is 11 for n = 10 case.\n",
        "\n",
        "\n"
      ]
    },
    {
      "cell_type": "markdown",
      "metadata": {
        "id": "54cTOXEwK753"
      },
      "source": [
        "**Part(b)**\n",
        " (Construct matrices with various eigenvalue distributions (clustered and non-clustered)\n",
        "and apply the above CG method to them. Comment on the behaviour of the CG method in terms of\n",
        "convergence"
      ]
    },
    {
      "cell_type": "code",
      "execution_count": 5,
      "metadata": {
        "id": "_Jp2vzoRK755",
        "outputId": "55b7dbf2-509c-47cf-c47d-e604051e2fed",
        "colab": {
          "base_uri": "https://localhost:8080/"
        }
      },
      "outputs": [
        {
          "output_type": "stream",
          "name": "stdout",
          "text": [
            "Unique Eigen Values are [1.]\n",
            "Iterations to converge are 1\n"
          ]
        }
      ],
      "source": [
        "n = 10\n",
        "H = np.diag(np.ones(10))\n",
        "b = np.ones(n)\n",
        "x_init = np.zeros(n)\n",
        "tolerance = 1e-6\n",
        "eig_values = np.linalg.eigvals(H)\n",
        "unique_eigen_values = np.unique(eig_values)\n",
        "x_opt, iters = conjugate_gradient(H, b, x_init, tolerance)\n",
        "\n",
        "print('Unique Eigen Values are', unique_eigen_values)\n",
        "print('Iterations to converge are', iters)"
      ]
    },
    {
      "cell_type": "code",
      "execution_count": 6,
      "metadata": {
        "id": "Vsk_WuC1K758",
        "outputId": "9664bcc8-4a62-4e1b-8db6-bec4c187e162",
        "colab": {
          "base_uri": "https://localhost:8080/",
          "height": 295
        }
      },
      "outputs": [
        {
          "output_type": "display_data",
          "data": {
            "text/plain": [
              "<Figure size 432x288 with 1 Axes>"
            ],
            "image/png": "[encoded data removed]"
          },
          "metadata": {
            "needs_background": "light"
          }
        }
      ],
      "source": [
        "plt.figure()\n",
        "plt.title('Eigen Value Distribution')\n",
        "plt.eventplot(eig_values,lineoffsets=2)\n",
        "plt.xlabel('Eigen Values')\n",
        "#plt.axis('off')\n",
        "plt.show()"
      ]
    },
    {
      "cell_type": "code",
      "execution_count": 7,
      "metadata": {
        "id": "T3q1GB1BK76A",
        "outputId": "4595056b-faef-4ae9-9784-2947f543727a",
        "colab": {
          "base_uri": "https://localhost:8080/"
        }
      },
      "outputs": [
        {
          "output_type": "stream",
          "name": "stdout",
          "text": [
            "Unique Eigen Values are [1. 5.]\n",
            "Iterations to converge are 2\n"
          ]
        }
      ],
      "source": [
        "n = 10\n",
        "H = np.diag(np.append(np.ones(5), 5*np.ones(5)))\n",
        "b = np.ones(n)\n",
        "x_init = np.zeros(n)\n",
        "tolerance = 1e-6\n",
        "eig_values = np.linalg.eigvals(H)\n",
        "unique_eigen_values = np.unique(eig_values)\n",
        "x_opt, iters = conjugate_gradient(H, b, x_init, tolerance)\n",
        "\n",
        "\n",
        "print('Unique Eigen Values are', unique_eigen_values)\n",
        "print('Iterations to converge are', iters)"
      ]
    },
    {
      "cell_type": "code",
      "execution_count": 8,
      "metadata": {
        "id": "4AK8H324K76D",
        "outputId": "08486966-f6be-4d2d-844a-7822a75366c7",
        "colab": {
          "base_uri": "https://localhost:8080/",
          "height": 295
        }
      },
      "outputs": [
        {
          "output_type": "display_data",
          "data": {
            "text/plain": [
              "<Figure size 432x288 with 1 Axes>"
            ],
            "image/png": "[encoded data removed]"
          },
          "metadata": {
            "needs_background": "light"
          }
        }
      ],
      "source": [
        "plt.figure()\n",
        "plt.title('Eigen Value Distribution')\n",
        "plt.eventplot(eig_values,lineoffsets=2)\n",
        "plt.xlabel('Eigen Values')\n",
        "plt.show()"
      ]
    },
    {
      "cell_type": "code",
      "execution_count": 9,
      "metadata": {
        "id": "op7eosOsK76F",
        "outputId": "2ae45813-7d87-4a99-8632-51cf51cf7c3e",
        "colab": {
          "base_uri": "https://localhost:8080/"
        }
      },
      "outputs": [
        {
          "output_type": "stream",
          "name": "stdout",
          "text": [
            "Unique Eigen Values are [ 1.  2.  3.  4.  5.  6.  7.  8.  9. 10.]\n",
            "Iterations to converge are 10\n"
          ]
        }
      ],
      "source": [
        "n = 10\n",
        "H = np.diag(np.arange(10) + 1)\n",
        "b = np.ones(n)\n",
        "x_init = np.zeros(n)\n",
        "tolerance = 1e-6\n",
        "eig_values = np.linalg.eigvals(H)\n",
        "unique_eigen_values = np.unique(eig_values)\n",
        "x_opt, iters = conjugate_gradient(H, b, x_init, tolerance)\n",
        "\n",
        "print('Unique Eigen Values are', unique_eigen_values)\n",
        "print('Iterations to converge are', iters)"
      ]
    },
    {
      "cell_type": "code",
      "execution_count": 10,
      "metadata": {
        "id": "xzgdSWzPK76J",
        "outputId": "4cac19ad-73ce-48ac-fac2-6e43357add3b",
        "colab": {
          "base_uri": "https://localhost:8080/",
          "height": 295
        }
      },
      "outputs": [
        {
          "output_type": "display_data",
          "data": {
            "text/plain": [
              "<Figure size 432x288 with 1 Axes>"
            ],
            "image/png": "[encoded data removed]"
          },
          "metadata": {
            "needs_background": "light"
          }
        }
      ],
      "source": [
        "plt.figure()\n",
        "plt.title('Eigen Value Distribution')\n",
        "plt.eventplot(eig_values,lineoffsets=2)\n",
        "plt.xlabel('Eigen Values')\n",
        "#plt.axis('off')\n",
        "plt.show()"
      ]
    },
    {
      "cell_type": "markdown",
      "metadata": {
        "id": "FxjoCXcRK76L"
      },
      "source": [
        "Here we have taken simple diagonal matrices to show the eigen value distribution. For identity matrix, there is only one eigen value, hence it takes 1 step to converge. In second example, there are two eigen values 1 and 5, hence the procedure converges in 2 iterations. In third example, eigen values are well spread between 1 to 10 (i.e. every integer between 1 to 10). This takes 10 iterations to converge. Hence it's clear that when eigen values are clustered, less number of iterations are needed for convergence of CG. From Nocedal, Wright, when eigen values are clustered in r clusters, approximately r iterations are needed for convergence. This is clearly being justified in our examples. Here we have taken only diagonal matrices, but the principle will hold for general matrices."
      ]
    },
    {
      "cell_type": "code",
      "execution_count": 11,
      "metadata": {
        "id": "5GhCMfhBK76O",
        "outputId": "69b9c86d-3f42-49d3-d79b-9b9ea9f45398",
        "colab": {
          "base_uri": "https://localhost:8080/"
        }
      },
      "outputs": [
        {
          "output_type": "stream",
          "name": "stdout",
          "text": [
            "Unique Eigen Values are [3.25558785e-03 1.91045242e-02 1.65778298e-01 8.85059910e-01\n",
            " 3.80049434e+00 1.29482571e+01 1.55051716e+01 1.98333726e+01\n",
            " 3.59253093e+01 2.08066229e+02]\n",
            "Iterations to converge are 12\n"
          ]
        }
      ],
      "source": [
        "n = 10\n",
        "np.random.seed(5)\n",
        "L = np.tril(4 * np.random.rand(n, n)) + 0.1\n",
        "H = np.matmul(L, L.T)\n",
        "b = np.ones(n)\n",
        "x_init = np.zeros(n)\n",
        "tolerance = 1e-6\n",
        "eig_values = np.linalg.eigvals(H)\n",
        "unique_eigen_values = np.unique(eig_values)\n",
        "x_opt, iters = conjugate_gradient(H, b, x_init, tolerance)\n",
        "\n",
        "print('Unique Eigen Values are', unique_eigen_values)\n",
        "print('Iterations to converge are', iters)"
      ]
    },
    {
      "cell_type": "code",
      "execution_count": 12,
      "metadata": {
        "id": "yzZtgmDgK76R",
        "outputId": "bf7915fc-e5c4-4c9e-d85b-3b3459720f11",
        "colab": {
          "base_uri": "https://localhost:8080/",
          "height": 295
        }
      },
      "outputs": [
        {
          "output_type": "display_data",
          "data": {
            "text/plain": [
              "<Figure size 432x288 with 1 Axes>"
            ],
            "image/png": "[encoded data removed]"
          },
          "metadata": {
            "needs_background": "light"
          }
        }
      ],
      "source": [
        "plt.figure()\n",
        "plt.title('Eigen Value Distribution')\n",
        "plt.eventplot(eig_values,lineoffsets=2)\n",
        "plt.xlabel('Eigen Values')\n",
        "#plt.axis('off')\n",
        "plt.show()"
      ]
    },
    {
      "cell_type": "markdown",
      "metadata": {
        "id": "5_CV9kkKK76T"
      },
      "source": [
        "Above we have shown for a general positive definite matrix. Its eigen values have 7 visible clusters and it has taken 12 iterations to converge, which is close to 7."
      ]
    },
    {
      "cell_type": "markdown",
      "metadata": {
        "id": "Y0C-OhdQK76W"
      },
      "source": [
        "# Problem 2"
      ]
    },
    {
      "cell_type": "markdown",
      "source": [
        "**Part (a)**\n"
      ],
      "metadata": {
        "id": "iuqLw6Y3ZXTp"
      }
    },
    {
      "cell_type": "markdown",
      "source": [],
      "metadata": {
        "id": "YKGZJXUDduzW"
      }
    },
    {
      "cell_type": "markdown",
      "source": [
        "Here The Objective fuction is  $-min(C^T X)$.\n",
        "\n",
        "Where $C^T= [0,0,0,0,0,0,0,0,0,0,0,0,0,0,0,0,0,0,0,0,0,-1.005]$\n",
        "\n",
        "and $X = [u1, v1, v2, v3, v4, v5, v6, w1, w2, w3, w4, w5, w6, w7, z1, z2, z3, z4, z5, z6, z7, v]$\n",
        "\n",
        "With\n",
        "\n",
        "$U[i]= $Type 1 loan at quarter $i$\\\n",
        "$V[i]= $type 2 loan at quarter $i$\\\n",
        "$Z[i]=$ Type INVESTMENT at quarter $i$.\\\n"
      ],
      "metadata": {
        "id": "jVlhN62_d1U_"
      }
    },
    {
      "cell_type": "code",
      "source": [
        "import pandas as pd\n",
        "import numpy as np\n",
        "\n",
        "A1=np.zeros([8,6])\n",
        "for i in range(6):\n",
        "    A1[i,i]=1\n",
        "for i in range(2,8):\n",
        "    A1[i,i-2]=-1.036\n",
        "A2=np.zeros([8,7])\n",
        "for i in range(7):\n",
        "    A2[i,i]=1\n",
        "for i in range(1,8):\n",
        "    A2[i,i-1]=-1.025\n",
        "A3=np.zeros([8,7])\n",
        "for i in range(7):\n",
        "    A3[i,i]=-1\n",
        "for i in range(1,8):\n",
        "    A3[i,i-1]=1.005\n",
        "A4=np.zeros([8,1])\n",
        "A4[0,0]=1\n",
        "A4[7,0]=-1.08\n",
        "A5=np.zeros([8,1])\n",
        "A5[7,0]=-1\n",
        "A=np.concatenate((A4,A1,A2,A3,A5),axis=1)\n",
        "print(A) #The Constraint matrix"
      ],
      "metadata": {
        "colab": {
          "base_uri": "https://localhost:8080/"
        },
        "id": "qmebbf2Jdsyd",
        "outputId": "fabece7f-786c-426a-80f6-c793abc98fc5"
      },
      "execution_count": 13,
      "outputs": [
        {
          "output_type": "stream",
          "name": "stdout",
          "text": [
            "[[ 1.     1.     0.     0.     0.     0.     0.     1.     0.     0.\n",
            "   0.     0.     0.     0.    -1.     0.     0.     0.     0.     0.\n",
            "   0.     0.   ]\n",
            " [ 0.     0.     1.     0.     0.     0.     0.    -1.025  1.     0.\n",
            "   0.     0.     0.     0.     1.005 -1.     0.     0.     0.     0.\n",
            "   0.     0.   ]\n",
            " [ 0.    -1.036  0.     1.     0.     0.     0.     0.    -1.025  1.\n",
            "   0.     0.     0.     0.     0.     1.005 -1.     0.     0.     0.\n",
            "   0.     0.   ]\n",
            " [ 0.     0.    -1.036  0.     1.     0.     0.     0.     0.    -1.025\n",
            "   1.     0.     0.     0.     0.     0.     1.005 -1.     0.     0.\n",
            "   0.     0.   ]\n",
            " [ 0.     0.     0.    -1.036  0.     1.     0.     0.     0.     0.\n",
            "  -1.025  1.     0.     0.     0.     0.     0.     1.005 -1.     0.\n",
            "   0.     0.   ]\n",
            " [ 0.     0.     0.     0.    -1.036  0.     1.     0.     0.     0.\n",
            "   0.    -1.025  1.     0.     0.     0.     0.     0.     1.005 -1.\n",
            "   0.     0.   ]\n",
            " [ 0.     0.     0.     0.     0.    -1.036  0.     0.     0.     0.\n",
            "   0.     0.    -1.025  1.     0.     0.     0.     0.     0.     1.005\n",
            "  -1.     0.   ]\n",
            " [-1.08   0.     0.     0.     0.     0.    -1.036  0.     0.     0.\n",
            "   0.     0.     0.    -1.025  0.     0.     0.     0.     0.     0.\n",
            "   1.005 -1.   ]]\n"
          ]
        }
      ]
    },
    {
      "cell_type": "code",
      "source": [
        "cols = np.array(\"u1,v1,v2,v3,v4,v5,v6,w1,w2,w3,w4,w5,w6,w7,z1,z2,z3,z4,z5,z6,z7,v\".split(\",\"))\n",
        "A = pd.DataFrame(A,columns = cols )\n",
        "c = pd.Series(np.zeros(22),index=cols)\n",
        "c[-1] = -1\n",
        "print(c.shape)\n",
        "b = [100,500,100,-600,-500,200,600,-900]\n",
        "print()\n",
        "print(\"B:-\" , b)"
      ],
      "metadata": {
        "colab": {
          "base_uri": "https://localhost:8080/"
        },
        "id": "goorh_yUdt7n",
        "outputId": "85bda4dc-f1d2-4ae0-ed3b-3d12974a1f9b"
      },
      "execution_count": 14,
      "outputs": [
        {
          "output_type": "stream",
          "name": "stdout",
          "text": [
            "(22,)\n",
            "\n",
            "B:- [100, 500, 100, -600, -500, 200, 600, -900]\n"
          ]
        }
      ]
    },
    {
      "cell_type": "markdown",
      "source": [
        "The constraints are given by $AX=b$.where bis given in the above."
      ],
      "metadata": {
        "id": "6dTGZxrMfaDI"
      }
    },
    {
      "cell_type": "code",
      "source": [],
      "metadata": {
        "id": "9Kano8CAdttB"
      },
      "execution_count": 14,
      "outputs": []
    },
    {
      "cell_type": "code",
      "source": [
        "basic  = np.array(['u1', 'v1', 'v2', 'v3', 'v6', 'w1', 'w7', 'z1'])\n",
        "nonbasic = np.setdiff1d(cols,basic)\n",
        "sn=np.ones(nonbasic.shape)*(-1)\n",
        "\n",
        "while((sn<0).sum()>0):\n",
        "    xb = pd.Series(np.linalg.inv(A[basic])@b,index = basic)\n",
        "    xn = pd.Series(np.zeros(22-8),index = nonbasic)\n",
        "    lamb = np.linalg.inv(A[basic].T)@c[basic]\n",
        "    \n",
        "    sn = c[nonbasic]-A[nonbasic].T@lamb\n",
        "    \n",
        "    if((sn<0).sum()==0):\n",
        "        break;\n",
        "    else:\n",
        "        q = sn[sn<0].idxmin()\n",
        " \n",
        "    d = np.linalg.inv(A[basic])@A[q]\n",
        "    if((d>=0).sum()==0):\n",
        "        print(\"problem is unbounded\")\n",
        "        break\n",
        "    xq = xb/d\n",
        "    p = xq[np.logical_and(d>0,xb>0)].idxmin()\n",
        "\n",
        "    basic = np.append(basic[basic!=p],q)\n",
        "    nonbasic = np.append(nonbasic[nonbasic!=q],p)\n",
        "    \n",
        "print(\"THE OPTIMAL FUNCTIONAL VALUE IS \",-np.linalg.inv(A[basic])@b@c[basic])"
      ],
      "metadata": {
        "colab": {
          "base_uri": "https://localhost:8080/"
        },
        "id": "BqR6Sbk-ny02",
        "outputId": "25f8e42f-3b32-4965-eb5f-59ca0c3be1eb"
      },
      "execution_count": 15,
      "outputs": [
        {
          "output_type": "stream",
          "name": "stdout",
          "text": [
            "THE OPTIMAL FUNCTIONAL VALUE IS  468.2720606735533\n"
          ]
        }
      ]
    },
    {
      "cell_type": "code",
      "source": [
        "# Using inbuilt solvers \n",
        "from scipy.optimize import linprog\n",
        "res1 = linprog(c, A_eq=A, b_eq=b, method=\"revised simplex\")\n",
        "print(\"LINPROG IMPLEMENTED REVISED SIMPLEX :- \")\n",
        "print()\n",
        "print(res1)\n",
        "for i in range(3):\n",
        "    print()\n",
        "print(\"LINPROG IMPLEMENTED INTERIOR POINT :- \")\n",
        "print()\n",
        "res = linprog(c, A_eq=A, b_eq=b, method=\"interior-point\")\n",
        "print(res)"
      ],
      "metadata": {
        "colab": {
          "base_uri": "https://localhost:8080/"
        },
        "id": "sk0Vns7adthB",
        "outputId": "75f74b0e-190b-4d38-be60-12f5ab80eeec"
      },
      "execution_count": 16,
      "outputs": [
        {
          "output_type": "stream",
          "name": "stdout",
          "text": [
            "LINPROG IMPLEMENTED REVISED SIMPLEX :- \n",
            "\n",
            "     con: array([ 0.00000000e+00,  0.00000000e+00,  1.42108547e-14,  0.00000000e+00,\n",
            "        5.68434189e-14,  0.00000000e+00, -1.13686838e-13,  0.00000000e+00])\n",
            "     fun: -468.2720606735534\n",
            " message: 'Optimization terminated successfully.'\n",
            "     nit: 11\n",
            "   slack: array([], dtype=float64)\n",
            "  status: 0\n",
            " success: True\n",
            "       x: array([399.74809197,   0.        , 198.75316757,   0.        ,\n",
            "         0.        ,   0.        ,   0.        ,   0.        ,\n",
            "         0.        , 100.        ,   0.        ,   0.        ,\n",
            "         0.        ,   0.        , 299.74809197,   0.        ,\n",
            "         0.        , 291.5917184 , 793.04967699, 597.01492537,\n",
            "         0.        , 468.27206067])\n",
            "\n",
            "\n",
            "\n",
            "LINPROG IMPLEMENTED INTERIOR POINT :- \n",
            "\n",
            "     con: array([ 6.20060803e-09,  3.15683906e-08,  6.33032471e-09, -3.79643552e-08,\n",
            "       -3.16248929e-08,  1.27035946e-08,  3.80356369e-08, -5.67586085e-08])\n",
            "     fun: -468.27206055462534\n",
            " message: 'Optimization terminated successfully.'\n",
            "     nit: 9\n",
            "   slack: array([], dtype=float64)\n",
            "  status: 0\n",
            " success: True\n",
            "       x: array([3.99748091e+02, 2.01494288e-07, 1.98753168e+02, 4.49941646e-07,\n",
            "       2.46622410e-07, 2.80892203e-07, 4.73377142e-07, 4.17868575e-07,\n",
            "       2.24544461e-07, 1.00000001e+02, 2.16793231e-07, 5.75414376e-07,\n",
            "       2.62835650e-07, 9.75787538e-07, 2.99748092e+02, 3.88349607e-08,\n",
            "       6.52457727e-07, 2.91591719e+02, 7.93049677e+02, 5.97014926e+02,\n",
            "       7.81131710e-07, 4.68272061e+02])\n"
          ]
        }
      ]
    },
    {
      "cell_type": "code",
      "source": [
        "import pulp as p\n",
        "Lp_prob = p.LpProblem('problem',p.LpMinimize)\n",
        "variables=[]\n",
        "for i in cols:\n",
        "    variables.append(p.LpVariable(i, lowBound=0))\n",
        "Lp_prob += c.T@np.array(variables)\n",
        "ind= 0\n",
        "for i in A@np.array(variables):\n",
        "    Lp_prob+=i==b[ind]\n",
        "    ind+=1"
      ],
      "metadata": {
        "id": "OnDGOPdzdtFA"
      },
      "execution_count": 17,
      "outputs": []
    },
    {
      "cell_type": "code",
      "source": [
        "status = Lp_prob.solve()\n",
        "print(p.LpStatus[status])\n",
        "print(\"OPTIMAL USING PULP IS \",p.value(Lp_prob.objective))"
      ],
      "metadata": {
        "colab": {
          "base_uri": "https://localhost:8080/"
        },
        "id": "uHw-fBJLgDMF",
        "outputId": "7511010b-cd6f-4e25-84e1-09d5059a7c35"
      },
      "execution_count": 18,
      "outputs": [
        {
          "output_type": "stream",
          "name": "stdout",
          "text": [
            "Optimal\n",
            "OPTIMAL USING PULP IS  -468.27206\n"
          ]
        }
      ]
    },
    {
      "cell_type": "code",
      "source": [],
      "metadata": {
        "id": "7RLhmxbhgC00"
      },
      "execution_count": 18,
      "outputs": []
    },
    {
      "cell_type": "markdown",
      "source": [
        "From The Above Outputs , \n",
        "It Can Be Seen That the optimal value for the self implemented simplex, linprog interior point, revised simplex and output using pulp is same, which is -468.27206055462534"
      ],
      "metadata": {
        "id": "4aO3clYAgOKv"
      }
    },
    {
      "cell_type": "markdown",
      "metadata": {
        "id": "edrLMOYKK76h"
      },
      "source": [
        "# Problem 3"
      ]
    },
    {
      "cell_type": "code",
      "execution_count": 19,
      "metadata": {
        "id": "32JxtdOSK76k"
      },
      "outputs": [],
      "source": [
        "\n",
        "\n",
        "import numpy as np\n",
        "import pandas as pd\n",
        "import matplotlib.pyplot as plt\n",
        "import scipy\n",
        "from scipy import linalg\n",
        "from cvxopt import matrix, solvers"
      ]
    },
    {
      "cell_type": "markdown",
      "metadata": {
        "id": "A9DXiM5PK76m"
      },
      "source": [
        "# 3.(a) Geometrical Solution"
      ]
    },
    {
      "cell_type": "code",
      "execution_count": 20,
      "metadata": {
        "id": "FgrIW4MYK76n",
        "outputId": "00d7799f-b7bf-4bd0-be3f-51e655ea3928",
        "colab": {
          "base_uri": "https://localhost:8080/",
          "height": 404
        }
      },
      "outputs": [
        {
          "output_type": "display_data",
          "data": {
            "text/plain": [
              "<Figure size 720x432 with 2 Axes>"
            ],
            "image/png": "[encoded data removed]"
          },
          "metadata": {
            "needs_background": "light"
          }
        }
      ],
      "source": [
        "x_one = np.linspace(0, 3, 101)\n",
        "x_two = np.linspace(0, 3, 101)\n",
        "X_ONE, X_TWO = np.meshgrid(x_one, x_two)\n",
        "z_obj = X_ONE**2 + 2*(X_TWO**2) - 2*X_ONE - 6*X_TWO - 2*X_ONE*X_TWO\n",
        "x_two_ineq_one = 2 - x_one\n",
        "x_two_ineq_two = 1 + x_one/2\n",
        "\n",
        "# Co-ordinates of vertices of feasible region have to be found by solving the equations of intersecting lines.\n",
        "ineq_A = np.array([[1, 1], [-1, 2]])\n",
        "ineq_b = np.array([2, 2])\n",
        "intersection = np.matmul(np.linalg.inv(ineq_A), ineq_b)\n",
        "feasible_vertices_x = [0, 2, intersection[0], 0]\n",
        "feasible_vertices_y = [0, 0, intersection[1], 1]\n",
        "\n",
        "\n",
        "plt.figure(figsize = (10, 6))\n",
        "plt.plot(x_one, x_two_ineq_one, c = 'red', label = 'x1 + x2 = 2')\n",
        "plt.plot(x_one, x_two_ineq_two, c = 'blue', label = '-x1 + 2*x2 = 2')\n",
        "plt.fill(feasible_vertices_x, feasible_vertices_y, c = 'red', label = 'Feasible Region', alpha = 0.7)\n",
        "plt.contour(X_ONE, X_TWO, z_obj)\n",
        "plt.colorbar()\n",
        "plt.scatter([0.8], [1.2], c = 'black', s = 50, label = 'Solution') #This is derived in the next cell.\n",
        "plt.legend()\n",
        "plt.xlim([0, 3])\n",
        "plt.ylim([0, 3])\n",
        "plt.xlabel('x1')\n",
        "plt.ylabel('x2')\n",
        "plt.title('Feasible Region and Contour plot for given problem')\n",
        "plt.show()"
      ]
    },
    {
      "cell_type": "markdown",
      "metadata": {
        "id": "SmtR9nmuK76r"
      },
      "source": [
        "As expected, the conour is an ellipsoid. From the plot, it's obvious that the solution will be somewhere along the two boundaries defined by two constraints. Interior point is definitely not a solution, because as per contour plot interior points will have higher value of objective function than at least one of the boundary points."
      ]
    },
    {
      "cell_type": "code",
      "execution_count": 21,
      "metadata": {
        "id": "r9fpLxD3K76s",
        "outputId": "4a029dd9-cb9b-42af-a286-e3354653cdb7",
        "colab": {
          "base_uri": "https://localhost:8080/"
        }
      },
      "outputs": [
        {
          "output_type": "stream",
          "name": "stdout",
          "text": [
            "Solution is  [0.8008008 1.1991992] and objective function value is  -7.199996793590386 .\n"
          ]
        }
      ],
      "source": [
        "# Geometric Solution of Quadratic Programming Problem\n",
        "x_one_space = np.linspace(0, 2, 1000)\n",
        "blue_filter = x_one_space < intersection[0]\n",
        "red_filter = x_one_space > intersection[0]\n",
        "len_blue = np.sum(blue_filter)\n",
        "x_two_space_blue = 1 + x_one_space/2\n",
        "x_two_space_red = 2 - x_one_space\n",
        "x_two_space = x_two_space_blue * blue_filter + x_two_space_red * red_filter\n",
        "\n",
        "obj_boundary = x_one_space**2 + 2*(x_two_space**2) - 2*x_one_space - 6*x_two_space - 2*x_one_space*x_two_space\n",
        "#print(np.min(obj_boundary))\n",
        "sol_arg = np.argmin(obj_boundary)\n",
        "sol = np.array([x_one_space[sol_arg], x_two_space[sol_arg]])\n",
        "sol_value = obj_boundary[sol_arg]\n",
        "\n",
        "print('Solution is ', sol, 'and objective function value is ', sol_value, '.')"
      ]
    },
    {
      "cell_type": "markdown",
      "metadata": {
        "id": "YxQBpwcOK76v"
      },
      "source": [
        "Here we found the solution to be close to (0.8, 1.2) geometrically. This turns out to be correct as we later show through the use of CVXOPT library."
      ]
    },
    {
      "cell_type": "markdown",
      "metadata": {
        "id": "roi7WEG-K76y"
      },
      "source": [
        "# 3.(b) Active Set Method"
      ]
    },
    {
      "cell_type": "code",
      "execution_count": 22,
      "metadata": {
        "id": "OU99G3MNK761"
      },
      "outputs": [],
      "source": [
        "#Solving the QP subproblem with equality constraints\n",
        "def subproblem(G, gk, constr):\n",
        "    \n",
        "    len_sol = len(G)\n",
        "    len_lamda = len(constr)\n",
        "    left_matrix = np.concatenate((G, constr), axis = 0)\n",
        "    right_matrix = np.concatenate((-constr.T, np.zeros((len_lamda, len_lamda))), axis = 0)\n",
        "    kkt_matrix = np.concatenate((left_matrix, right_matrix), axis = 1)\n",
        "    rhs_vector = np.concatenate((-gk, np.zeros(len_lamda)), axis = 0)\n",
        "    sol_total = np.matmul(np.linalg.inv(kkt_matrix), rhs_vector)\n",
        "    sol_x = sol_total[:len_sol]\n",
        "    sol_lamda = sol_total[len_sol:]\n",
        "    return sol_x, sol_lamda"
      ]
    },
    {
      "cell_type": "code",
      "execution_count": 23,
      "metadata": {
        "id": "63JcdUUeK763"
      },
      "outputs": [],
      "source": [
        "#Active Set Method as described in Algorithm 16.3 of Nocedal, Wright.\n",
        "def active_set(G, c, A_ineq, b_ineq, A_eq, b_eq, x_init):\n",
        "    \n",
        "    x_curr = np.array(x_init)\n",
        "    \n",
        "    if A_eq is None:\n",
        "        num_eq = 0\n",
        "        num_ineq = len(b_ineq)\n",
        "        A_constr = A_ineq\n",
        "        b_constr = b_ineq\n",
        "    elif A_ineq is None:\n",
        "        num_ineq = 0\n",
        "        num_eq = len(b_eq)\n",
        "        A_constr = A_eq\n",
        "        b_constr = b_eq\n",
        "    else:\n",
        "        num_ineq = len(b_ineq)\n",
        "        num_eq = len(b_eq)\n",
        "        A_constr = np.concatenate((A_eq, A_ineq), axis = 0)\n",
        "        b_constr = np.concatenate((b_eq, b_ineq), axis = 0)\n",
        "        \n",
        "    equality_indices = np.array(list(range(0, num_eq)))\n",
        "    inequality_indices = np.array(range(num_eq, num_eq + num_ineq))\n",
        "    working_set = (np.matmul(A_constr, x_curr) - b_constr == 0)\n",
        "    working_indices = np.nonzero(working_set)[0]\n",
        "    nonworking_indices = np.nonzero(working_set == 0)[0]\n",
        "    #print(nonworking_indices)\n",
        "    iterations = 0\n",
        "    \n",
        "    while True:\n",
        "        iterations += 1\n",
        "        gk = np.matmul(G, x_curr) + c\n",
        "        constr = A_constr[working_indices]\n",
        "        p, _ = subproblem(G, gk, constr)\n",
        "        #print(x_curr)\n",
        "        #print(working_indices)\n",
        "        \n",
        "        \n",
        "        if np.all(p < 1e-5): #Using a small number rather than 0 to avoid numerical round-off issues and infinite iteration\n",
        "            lamda_vec = scipy.linalg.lstsq(constr.T, gk)[0]\n",
        "            if np.all(lamda_vec[np.nonzero(working_indices >= num_eq)[0]] >= 0):\n",
        "                return (x_curr, iterations)\n",
        "            else:\n",
        "                min_j = working_indices[np.argmin(lamda_vec)]\n",
        "                x_curr = x_curr\n",
        "                working_indices = np.delete(working_indices, np.argwhere(working_indices == min_j))\n",
        "                nonworking_indices = np.append(nonworking_indices, min_j)\n",
        "        else:\n",
        "            temp_arr = A_constr[nonworking_indices]\n",
        "            temp_Apk = np.matmul(temp_arr, p) < 0\n",
        "            nonzero_index = np.nonzero(temp_Apk)[0]\n",
        "            temp_working_index = nonworking_indices[nonzero_index]\n",
        "            temp_b_constr = b_constr[temp_working_index]\n",
        "            temp_fraction = (temp_b_constr - np.matmul(temp_arr[nonzero_index], x_curr))/(np.matmul(temp_arr[nonzero_index], p))\n",
        "            temp_index, temp_value = (np.argmin(temp_fraction), np.min(temp_fraction))\n",
        "            alpha = np.min([1, temp_value])\n",
        "            x_curr = x_curr + alpha*p\n",
        "            if (alpha < 1):\n",
        "                index_added = temp_working_index[temp_index]\n",
        "                working_indices = np.append(working_indices, index_added)\n",
        "                nonworking_indices = np.delete(nonworking_indices, np.argwhere(nonworking_indices == index_added))\n",
        "            else:\n",
        "                working_indices = working_indices\n",
        "            "
      ]
    },
    {
      "cell_type": "markdown",
      "metadata": {
        "id": "TXDXnVp_K767"
      },
      "source": [
        "# 3.(c) Solution For Different Starting Points"
      ]
    },
    {
      "cell_type": "code",
      "execution_count": 24,
      "metadata": {
        "id": "g6TzXFf8K768"
      },
      "outputs": [],
      "source": [
        "#Defining objective function and constraint matrices\n",
        "\n",
        "G = 2*np.array([[1.0, -1.0], [-1.0, 2.0]])\n",
        "c = np.array([-2.0, -6.0])\n",
        "A_ineq = np.array([[-1.0, -1.0], [1.0, -2.0], [1.0, 0], [0, 1.0]])\n",
        "b_ineq = np.array([-2, -2, 0, 0])\n",
        "A_eq = None\n",
        "b_eq = None"
      ]
    },
    {
      "cell_type": "markdown",
      "metadata": {
        "id": "KlVj1SxiK76-"
      },
      "source": [
        "### Starting From Interior Points"
      ]
    },
    {
      "cell_type": "code",
      "execution_count": 25,
      "metadata": {
        "id": "Y1oTXP82K76_",
        "outputId": "b889b369-2146-4a0b-ff8a-46630ee6d023",
        "colab": {
          "base_uri": "https://localhost:8080/"
        }
      },
      "outputs": [
        {
          "output_type": "stream",
          "name": "stdout",
          "text": [
            "Solution is  [0.8 1.2] and it took  3 number of iterations with starting point as  [0.25, 0.25] .\n",
            "Solution is  [0.8 1.2] and it took  3 number of iterations with starting point as  [0.25, 0.5] .\n",
            "Solution is  [0.8 1.2] and it took  3 number of iterations with starting point as  [0.25, 1] .\n",
            "Solution is  [0.8 1.2] and it took  3 number of iterations with starting point as  [0.5, 0.5] .\n",
            "Solution is  [0.8 1.2] and it took  2 number of iterations with starting point as  [0.5, 1] .\n",
            "Solution is  [0.8 1.2] and it took  3 number of iterations with starting point as  [1, 0.5] .\n",
            "Solution is  [0.8 1.2] and it took  3 number of iterations with starting point as  [0.75, 0.75] .\n"
          ]
        }
      ],
      "source": [
        "x_init_list_interior = [[0.25, 0.25], [0.25, 0.5], [0.25, 1], [0.5, 0.5], [0.5, 1], [1, 0.5], [0.75, 0.75]]\n",
        "\n",
        "iteration_interior = []\n",
        "sol_interior = []\n",
        "for x_init in x_init_list_interior:\n",
        "    sol, iterations = active_set(G, c, A_ineq, b_ineq, A_eq, b_eq, x_init)\n",
        "    print('Solution is ', sol, 'and it took ', iterations, 'number of iterations with starting point as ', x_init, '.')\n",
        "    iteration_interior.append(iterations)\n",
        "    sol_interior.append(sol)"
      ]
    },
    {
      "cell_type": "markdown",
      "metadata": {
        "id": "-oJRT2joK77E"
      },
      "source": [
        "### Starting From Vertex Points"
      ]
    },
    {
      "cell_type": "code",
      "execution_count": 26,
      "metadata": {
        "id": "sW80iN9rK77F",
        "outputId": "64dbdd0c-7cb7-4ec3-cfe6-a916860b473b",
        "colab": {
          "base_uri": "https://localhost:8080/"
        }
      },
      "outputs": [
        {
          "output_type": "stream",
          "name": "stdout",
          "text": [
            "Solution is  [0.8 1.2] and it took  7 number of iterations with starting point as  [0, 0] .\n",
            "Solution is  [0.8 1.2] and it took  5 number of iterations with starting point as  [0, 1] .\n",
            "Solution is  [0.8 1.2] and it took  3 number of iterations with starting point as  [2, 0] .\n",
            "Solution is  [0.8 1.2] and it took  2 number of iterations with starting point as  [0.6666667, 1.3333333] .\n"
          ]
        }
      ],
      "source": [
        "x_init_list_vertex = [[0, 0], [0, 1], [2, 0], [0.6666667, 1.3333333]]\n",
        "\n",
        "iteration_vertex = []\n",
        "sol_vertex = []\n",
        "for x_init in x_init_list_vertex:\n",
        "    sol, iterations = active_set(G, c, A_ineq, b_ineq, A_eq, b_eq, x_init)\n",
        "    print('Solution is ', sol, 'and it took ', iterations, 'number of iterations with starting point as ', x_init, '.')\n",
        "    iteration_vertex.append(iterations)\n",
        "    sol_vertex.append(sol)"
      ]
    },
    {
      "cell_type": "markdown",
      "metadata": {
        "id": "zszrdHd2K77H"
      },
      "source": [
        "### Starting From Boundary Points"
      ]
    },
    {
      "cell_type": "code",
      "execution_count": 27,
      "metadata": {
        "id": "iRFghasQK77K",
        "outputId": "4c3a35ad-f83e-47b7-fb76-1655c0a3d448",
        "colab": {
          "base_uri": "https://localhost:8080/"
        }
      },
      "outputs": [
        {
          "output_type": "stream",
          "name": "stdout",
          "text": [
            "Solution is  [0.8 1.2] and it took  5 number of iterations with starting point as  [0.5, 0] .\n",
            "Solution is  [0.8 1.2] and it took  4 number of iterations with starting point as  [1, 0] .\n",
            "Solution is  [0.8 1.2] and it took  4 number of iterations with starting point as  [1.5, 0] .\n",
            "Solution is  [0.8 1.2] and it took  6 number of iterations with starting point as  [0, 0.5] .\n",
            "Solution is  [0.8 1.2] and it took  4 number of iterations with starting point as  [0.25, 1.125] .\n",
            "Solution is  [0.8 1.2] and it took  4 number of iterations with starting point as  [0.5, 1.25] .\n",
            "Solution is  [0.8 1.2] and it took  2 number of iterations with starting point as  [1.0, 1.0] .\n",
            "Solution is  [0.8 1.2] and it took  2 number of iterations with starting point as  [1.5, 0.5] .\n"
          ]
        }
      ],
      "source": [
        "x_init_list_boundary = [[0.5, 0], [1, 0], [1.5, 0], [0, 0.5], [0.25, 1.125], [0.5, 1.25], [1.0, 1.0], [1.5, 0.5]]\n",
        "\n",
        "sol_boundary = []\n",
        "iteration_boundary = []\n",
        "for x_init in x_init_list_boundary:\n",
        "    sol, iterations = active_set(G, c, A_ineq, b_ineq, A_eq, b_eq, x_init)\n",
        "    print('Solution is ', sol, 'and it took ', iterations, 'number of iterations with starting point as ', x_init, '.')\n",
        "    iteration_boundary.append(iterations)\n",
        "    sol_boundary.append(sol)"
      ]
    },
    {
      "cell_type": "markdown",
      "metadata": {
        "id": "RayDcxWqK77M"
      },
      "source": [
        "While we can't generalize too much, it is observed that a good starting guess (closer to the solution) results in fewer number of iterations required to converge to the solution. Further we observe that when we start with interior points, we almost always reached solution within 3 iterations for this QP problem irrespective of exact starting point. However, when we start from vertices, there is a significant difference in number of iterations required for convergence. Starting at (0, 0), which is farthest to the solution required 7 iterations while starting from (0.667, 1.333) took only 2 iterations. Further we observe that starting at different boundary points lead to convergence of solution in 2 to 6 iterations depending on starting point. Points far away such as (0, 0.5) and (0.5, 0) required 6 and 5 iterations respectively, whereas closer starting points such as (1.0, 1.0) and (1.5, 0.5) required only 2 iterations. While this trend is somewhat expected, we can't generalize it too much as far away starting guesses may also lead to convergence in fewer number of iterations in some cases. Another important point to note is that we always reached optimal point. This is expected as it's a convex quadratic programming problem and active set method is globally convergent for convex QP problems."
      ]
    },
    {
      "cell_type": "code",
      "execution_count": 28,
      "metadata": {
        "id": "BXue3rYeK77N",
        "outputId": "5ba5467f-38fa-4013-da8c-26919cc8a824",
        "colab": {
          "base_uri": "https://localhost:8080/",
          "height": 645
        }
      },
      "outputs": [
        {
          "output_type": "execute_result",
          "data": {
            "text/plain": [
              "            Starting Point Point Type  \\\n",
              "0             [0.25, 0.25]   Interior   \n",
              "1              [0.25, 0.5]   Interior   \n",
              "2                [0.25, 1]   Interior   \n",
              "3               [0.5, 0.5]   Interior   \n",
              "4                 [0.5, 1]   Interior   \n",
              "5                 [1, 0.5]   Interior   \n",
              "6             [0.75, 0.75]   Interior   \n",
              "7                   [0, 0]     Vertex   \n",
              "8                   [0, 1]     Vertex   \n",
              "9                   [2, 0]     Vertex   \n",
              "10  [0.6666667, 1.3333333]     Vertex   \n",
              "11                [0.5, 0]   Boundary   \n",
              "12                  [1, 0]   Boundary   \n",
              "13                [1.5, 0]   Boundary   \n",
              "14                [0, 0.5]   Boundary   \n",
              "15           [0.25, 1.125]   Boundary   \n",
              "16             [0.5, 1.25]   Boundary   \n",
              "17              [1.0, 1.0]   Boundary   \n",
              "18              [1.5, 0.5]   Boundary   \n",
              "\n",
              "                                     Results  Iterations  \n",
              "0   [0.7999999999999997, 1.1999999999999997]           3  \n",
              "1   [0.7999999999999996, 1.1999999999999997]           3  \n",
              "2   [0.7999999999999995, 1.1999999999999997]           3  \n",
              "3   [0.7999999999999996, 1.1999999999999997]           3  \n",
              "4                                 [0.8, 1.2]           2  \n",
              "5   [0.7999999999999996, 1.1999999999999997]           3  \n",
              "6   [0.7999999999999996, 1.1999999999999997]           3  \n",
              "7   [0.7999999999999994, 1.1999999999999997]           7  \n",
              "8   [0.7999999999999994, 1.1999999999999997]           5  \n",
              "9                  [0.7999999999999998, 1.2]           3  \n",
              "10  [0.7999999999999995, 1.1999999999999997]           2  \n",
              "11  [0.7999999999999998, 1.1999999999999997]           5  \n",
              "12  [0.7999999999999998, 1.1999999999999997]           4  \n",
              "13                 [0.7999999999999998, 1.2]           4  \n",
              "14  [0.7999999999999994, 1.1999999999999997]           6  \n",
              "15  [0.7999999999999994, 1.1999999999999997]           4  \n",
              "16  [0.7999999999999994, 1.1999999999999997]           4  \n",
              "17  [0.7999999999999996, 1.1999999999999997]           2  \n",
              "18  [0.7999999999999998, 1.1999999999999997]           2  "
            ],
            "text/html": [
              "\n",
              "  <div id=\"df-dc1f25fa-9be2-414f-bab8-bdee9ba25875\">\n",
              "    <div class=\"colab-df-container\">\n",
              "      <div>\n",
              "<style scoped>\n",
              "    .dataframe tbody tr th:only-of-type {\n",
              "        vertical-align: middle;\n",
              "    }\n",
              "\n",
              "    .dataframe tbody tr th {\n",
              "        vertical-align: top;\n",
              "    }\n",
              "\n",
              "    .dataframe thead th {\n",
              "        text-align: right;\n",
              "    }\n",
              "</style>\n",
              "<table border=\"1\" class=\"dataframe\">\n",
              "  <thead>\n",
              "    <tr style=\"text-align: right;\">\n",
              "      <th></th>\n",
              "      <th>Starting Point</th>\n",
              "      <th>Point Type</th>\n",
              "      <th>Results</th>\n",
              "      <th>Iterations</th>\n",
              "    </tr>\n",
              "  </thead>\n",
              "  <tbody>\n",
              "    <tr>\n",
              "      <th>0</th>\n",
              "      <td>[0.25, 0.25]</td>\n",
              "      <td>Interior</td>\n",
              "      <td>[0.7999999999999997, 1.1999999999999997]</td>\n",
              "      <td>3</td>\n",
              "    </tr>\n",
              "    <tr>\n",
              "      <th>1</th>\n",
              "      <td>[0.25, 0.5]</td>\n",
              "      <td>Interior</td>\n",
              "      <td>[0.7999999999999996, 1.1999999999999997]</td>\n",
              "      <td>3</td>\n",
              "    </tr>\n",
              "    <tr>\n",
              "      <th>2</th>\n",
              "      <td>[0.25, 1]</td>\n",
              "      <td>Interior</td>\n",
              "      <td>[0.7999999999999995, 1.1999999999999997]</td>\n",
              "      <td>3</td>\n",
              "    </tr>\n",
              "    <tr>\n",
              "      <th>3</th>\n",
              "      <td>[0.5, 0.5]</td>\n",
              "      <td>Interior</td>\n",
              "      <td>[0.7999999999999996, 1.1999999999999997]</td>\n",
              "      <td>3</td>\n",
              "    </tr>\n",
              "    <tr>\n",
              "      <th>4</th>\n",
              "      <td>[0.5, 1]</td>\n",
              "      <td>Interior</td>\n",
              "      <td>[0.8, 1.2]</td>\n",
              "      <td>2</td>\n",
              "    </tr>\n",
              "    <tr>\n",
              "      <th>5</th>\n",
              "      <td>[1, 0.5]</td>\n",
              "      <td>Interior</td>\n",
              "      <td>[0.7999999999999996, 1.1999999999999997]</td>\n",
              "      <td>3</td>\n",
              "    </tr>\n",
              "    <tr>\n",
              "      <th>6</th>\n",
              "      <td>[0.75, 0.75]</td>\n",
              "      <td>Interior</td>\n",
              "      <td>[0.7999999999999996, 1.1999999999999997]</td>\n",
              "      <td>3</td>\n",
              "    </tr>\n",
              "    <tr>\n",
              "      <th>7</th>\n",
              "      <td>[0, 0]</td>\n",
              "      <td>Vertex</td>\n",
              "      <td>[0.7999999999999994, 1.1999999999999997]</td>\n",
              "      <td>7</td>\n",
              "    </tr>\n",
              "    <tr>\n",
              "      <th>8</th>\n",
              "      <td>[0, 1]</td>\n",
              "      <td>Vertex</td>\n",
              "      <td>[0.7999999999999994, 1.1999999999999997]</td>\n",
              "      <td>5</td>\n",
              "    </tr>\n",
              "    <tr>\n",
              "      <th>9</th>\n",
              "      <td>[2, 0]</td>\n",
              "      <td>Vertex</td>\n",
              "      <td>[0.7999999999999998, 1.2]</td>\n",
              "      <td>3</td>\n",
              "    </tr>\n",
              "    <tr>\n",
              "      <th>10</th>\n",
              "      <td>[0.6666667, 1.3333333]</td>\n",
              "      <td>Vertex</td>\n",
              "      <td>[0.7999999999999995, 1.1999999999999997]</td>\n",
              "      <td>2</td>\n",
              "    </tr>\n",
              "    <tr>\n",
              "      <th>11</th>\n",
              "      <td>[0.5, 0]</td>\n",
              "      <td>Boundary</td>\n",
              "      <td>[0.7999999999999998, 1.1999999999999997]</td>\n",
              "      <td>5</td>\n",
              "    </tr>\n",
              "    <tr>\n",
              "      <th>12</th>\n",
              "      <td>[1, 0]</td>\n",
              "      <td>Boundary</td>\n",
              "      <td>[0.7999999999999998, 1.1999999999999997]</td>\n",
              "      <td>4</td>\n",
              "    </tr>\n",
              "    <tr>\n",
              "      <th>13</th>\n",
              "      <td>[1.5, 0]</td>\n",
              "      <td>Boundary</td>\n",
              "      <td>[0.7999999999999998, 1.2]</td>\n",
              "      <td>4</td>\n",
              "    </tr>\n",
              "    <tr>\n",
              "      <th>14</th>\n",
              "      <td>[0, 0.5]</td>\n",
              "      <td>Boundary</td>\n",
              "      <td>[0.7999999999999994, 1.1999999999999997]</td>\n",
              "      <td>6</td>\n",
              "    </tr>\n",
              "    <tr>\n",
              "      <th>15</th>\n",
              "      <td>[0.25, 1.125]</td>\n",
              "      <td>Boundary</td>\n",
              "      <td>[0.7999999999999994, 1.1999999999999997]</td>\n",
              "      <td>4</td>\n",
              "    </tr>\n",
              "    <tr>\n",
              "      <th>16</th>\n",
              "      <td>[0.5, 1.25]</td>\n",
              "      <td>Boundary</td>\n",
              "      <td>[0.7999999999999994, 1.1999999999999997]</td>\n",
              "      <td>4</td>\n",
              "    </tr>\n",
              "    <tr>\n",
              "      <th>17</th>\n",
              "      <td>[1.0, 1.0]</td>\n",
              "      <td>Boundary</td>\n",
              "      <td>[0.7999999999999996, 1.1999999999999997]</td>\n",
              "      <td>2</td>\n",
              "    </tr>\n",
              "    <tr>\n",
              "      <th>18</th>\n",
              "      <td>[1.5, 0.5]</td>\n",
              "      <td>Boundary</td>\n",
              "      <td>[0.7999999999999998, 1.1999999999999997]</td>\n",
              "      <td>2</td>\n",
              "    </tr>\n",
              "  </tbody>\n",
              "</table>\n",
              "</div>\n",
              "      <button class=\"colab-df-convert\" onclick=\"convertToInteractive('df-dc1f25fa-9be2-414f-bab8-bdee9ba25875')\"\n",
              "              title=\"Convert this dataframe to an interactive table.\"\n",
              "              style=\"display:none;\">\n",
              "        \n",
              "  <svg xmlns=\"http://www.w3.org/2000/svg\" height=\"24px\"viewBox=\"0 0 24 24\"\n",
              "       width=\"24px\">\n",
              "    <path d=\"M0 0h24v24H0V0z\" fill=\"none\"/>\n",
              "    <path d=\"M18.56 5.44l.94 2.06.94-2.06 2.06-.94-2.06-.94-.94-2.06-.94 2.06-2.06.94zm-11 1L8.5 8.5l.94-2.06 2.06-.94-2.06-.94L8.5 2.5l-.94 2.06-2.06.94zm10 10l.94 2.06.94-2.06 2.06-.94-2.06-.94-.94-2.06-.94 2.06-2.06.94z\"/><path d=\"M17.41 7.96l-1.37-1.37c-.4-.4-.92-.59-1.43-.59-.52 0-1.04.2-1.43.59L10.3 9.45l-7.72 7.72c-.78.78-.78 2.05 0 2.83L4 21.41c.39.39.9.59 1.41.59.51 0 1.02-.2 1.41-.59l7.78-7.78 2.81-2.81c.8-.78.8-2.07 0-2.86zM5.41 20L4 18.59l7.72-7.72 1.47 1.35L5.41 20z\"/>\n",
              "  </svg>\n",
              "      </button>\n",
              "      \n",
              "  <style>\n",
              "    .colab-df-container {\n",
              "      display:flex;\n",
              "      flex-wrap:wrap;\n",
              "      gap: 12px;\n",
              "    }\n",
              "\n",
              "    .colab-df-convert {\n",
              "      background-color: #E8F0FE;\n",
              "      border: none;\n",
              "      border-radius: 50%;\n",
              "      cursor: pointer;\n",
              "      display: none;\n",
              "      fill: #1967D2;\n",
              "      height: 32px;\n",
              "      padding: 0 0 0 0;\n",
              "      width: 32px;\n",
              "    }\n",
              "\n",
              "    .colab-df-convert:hover {\n",
              "      background-color: #E2EBFA;\n",
              "      box-shadow: 0px 1px 2px rgba(60, 64, 67, 0.3), 0px 1px 3px 1px rgba(60, 64, 67, 0.15);\n",
              "      fill: #174EA6;\n",
              "    }\n",
              "\n",
              "    [theme=dark] .colab-df-convert {\n",
              "      background-color: #3B4455;\n",
              "      fill: #D2E3FC;\n",
              "    }\n",
              "\n",
              "    [theme=dark] .colab-df-convert:hover {\n",
              "      background-color: #434B5C;\n",
              "      box-shadow: 0px 1px 3px 1px rgba(0, 0, 0, 0.15);\n",
              "      filter: drop-shadow(0px 1px 2px rgba(0, 0, 0, 0.3));\n",
              "      fill: #FFFFFF;\n",
              "    }\n",
              "  </style>\n",
              "\n",
              "      <script>\n",
              "        const buttonEl =\n",
              "          document.querySelector('#df-dc1f25fa-9be2-414f-bab8-bdee9ba25875 button.colab-df-convert');\n",
              "        buttonEl.style.display =\n",
              "          google.colab.kernel.accessAllowed ? 'block' : 'none';\n",
              "\n",
              "        async function convertToInteractive(key) {\n",
              "          const element = document.querySelector('#df-dc1f25fa-9be2-414f-bab8-bdee9ba25875');\n",
              "          const dataTable =\n",
              "            await google.colab.kernel.invokeFunction('convertToInteractive',\n",
              "                                                     [key], {});\n",
              "          if (!dataTable) return;\n",
              "\n",
              "          const docLinkHtml = 'Like what you see? Visit the ' +\n",
              "            '<a target=\"_blank\" href=https://colab.research.google.com/notebooks/data_table.ipynb>data table notebook</a>'\n",
              "            + ' to learn more about interactive tables.';\n",
              "          element.innerHTML = '';\n",
              "          dataTable['output_type'] = 'display_data';\n",
              "          await google.colab.output.renderOutput(dataTable, element);\n",
              "          const docLink = document.createElement('div');\n",
              "          docLink.innerHTML = docLinkHtml;\n",
              "          element.appendChild(docLink);\n",
              "        }\n",
              "      </script>\n",
              "    </div>\n",
              "  </div>\n",
              "  "
            ]
          },
          "metadata": {},
          "execution_count": 28
        }
      ],
      "source": [
        "results = pd.DataFrame()\n",
        "results['Starting Point'] = x_init_list_interior + x_init_list_vertex + x_init_list_boundary\n",
        "results['Point Type'] = ['Interior']*len(x_init_list_interior) + ['Vertex']*len(x_init_list_vertex) + ['Boundary']*len(x_init_list_boundary)\n",
        "results['Results'] = sol_interior + sol_vertex + sol_boundary\n",
        "results['Iterations'] = iteration_interior + iteration_vertex + iteration_boundary\n",
        "results"
      ]
    },
    {
      "cell_type": "markdown",
      "metadata": {
        "id": "-cIBYrkyK77Q"
      },
      "source": [
        "# 3.(d) CVXOPT Solution"
      ]
    },
    {
      "cell_type": "code",
      "execution_count": 29,
      "metadata": {
        "id": "oehIv1XIK77R"
      },
      "outputs": [],
      "source": [
        "from cvxopt import matrix, solvers"
      ]
    },
    {
      "cell_type": "code",
      "execution_count": 30,
      "metadata": {
        "id": "PV5KJz5CK77T",
        "outputId": "09eef730-72a0-479f-8748-5a73fc85e783",
        "colab": {
          "base_uri": "https://localhost:8080/"
        }
      },
      "outputs": [
        {
          "output_type": "stream",
          "name": "stdout",
          "text": [
            "     pcost       dcost       gap    pres   dres\n",
            " 0: -9.7394e+00 -9.9108e+00  2e+01  1e+00  9e-01\n",
            " 1: -6.8303e+00 -8.8469e+00  2e+00  1e-16  4e-16\n",
            " 2: -7.1760e+00 -7.3253e+00  1e-01  9e-17  5e-16\n",
            " 3: -7.1998e+00 -7.2072e+00  7e-03  2e-16  1e-15\n",
            " 4: -7.2000e+00 -7.2001e+00  9e-05  9e-17  7e-15\n",
            " 5: -7.2000e+00 -7.2000e+00  9e-07  2e-16  2e-14\n",
            "Optimal solution found.\n",
            "[ 8.00e-01]\n",
            "[ 1.20e+00]\n",
            "\n"
          ]
        }
      ],
      "source": [
        "Q = 2*matrix(np.array([[1.0, -1.0], [-1.0, 2.0]]))\n",
        "p = matrix([-2.0, -6.0])\n",
        "\n",
        "G = matrix(np.array([[1.0, 1.0], [-1.0, 2.0], [-1.0, 0], [0, -1.0]]))\n",
        "h = matrix([2.0, 2.0, 0, 0])\n",
        "\n",
        "sol = solvers.qp(Q,p,G,h)\n",
        "print(sol['x'])"
      ]
    },
    {
      "cell_type": "markdown",
      "metadata": {
        "id": "dQpTyfoQK77W"
      },
      "source": [
        "As can be observed, the solution obtained from CVXOPT is (0.8, 1.2). This proves the correctness of our implementation of active set method and geometrical solution."
      ]
    },
    {
      "cell_type": "markdown",
      "metadata": {
        "id": "vznT_Pf4K77Y"
      },
      "source": [
        "The algorithm used by CVXOPT is a primal dual path following scheme which is part of interior point method."
      ]
    },
    {
      "cell_type": "markdown",
      "metadata": {
        "id": "4-5jmcnSK77b"
      },
      "source": [
        "One difference between this primal dual path following interior point method and active set method is that in the former, both primal and dual variables are updated in every iteration, whereas in the latter, the way we have implemented, only primal variables get updated."
      ]
    },
    {
      "cell_type": "markdown",
      "metadata": {
        "id": "vy5Sd2wuK77d"
      },
      "source": [
        "Another difference is, in the primal dual interior point method, perturbed KKT system of equations is solved. The complementary slackness condition is perturbed in this method. However, in active set method, actual KKT system is solved."
      ]
    },
    {
      "cell_type": "markdown",
      "metadata": {
        "id": "S4bdQtw7K77e"
      },
      "source": [
        "Compared to another interior point method known as Barrier method, this primal dual path following method requires fewer number of newton step (1 to be precise) per iteration. "
      ]
    },
    {
      "cell_type": "markdown",
      "metadata": {
        "id": "loW-t3UdK77f"
      },
      "source": [
        "Further under most conditions, primal dual path following algorithm is highly efficient. While general interior point methods guarantee provably polynomial time complexity (active set methods don't have provable polynomial time complexity property, even though they work well and converge reasonably quickly in practice), primal dual path following algorithm goes one step further and can have better than linear convergence under suitable conditions."
      ]
    },
    {
      "cell_type": "code",
      "source": [],
      "metadata": {
        "id": "EtYWFxURk_Yb"
      },
      "execution_count": 30,
      "outputs": []
    }
  ],
  "metadata": {
    "colab": {
      "provenance": []
    },
    "kernelspec": {
      "display_name": "Python 3 (ipykernel)",
      "language": "python",
      "name": "python3"
    },
    "language_info": {
      "codemirror_mode": {
        "name": "ipython",
        "version": 3
      },
      "file_extension": ".py",
      "mimetype": "text/x-python",
      "name": "python",
      "nbconvert_exporter": "python",
      "pygments_lexer": "ipython3",
      "version": "3.9.12"
    }
  },
  "nbformat": 4,
  "nbformat_minor": 0
}